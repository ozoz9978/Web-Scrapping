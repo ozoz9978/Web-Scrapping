{
 "cells": [
  {
   "cell_type": "markdown",
   "id": "c2e52df3-d37c-497c-98cf-3eaa99ce9bf3",
   "metadata": {},
   "source": [
    "# 정규식 비사용 vs 사용"
   ]
  },
  {
   "cell_type": "code",
   "execution_count": 4,
   "id": "2eba33be-009d-48a6-8a65-febc355f4a3e",
   "metadata": {},
   "outputs": [
    {
     "name": "stdout",
     "output_type": "stream",
     "text": [
      "park 800904-*******\n",
      "kim 841204-*******\n"
     ]
    }
   ],
   "source": [
    "data = \"\"\"\n",
    "park 800904-1234567\n",
    "kim 841204-1234543\n",
    "\"\"\"\n",
    "\n",
    "result =[]\n",
    "for line in data.split('\\n'):\n",
    "    word_result =[]\n",
    "    for word in line.split():\n",
    "        if len(word)==14 and word[:6].isdigit() and word[7:].isdigit():\n",
    "            word = word[:6] + '-' + '*******'\n",
    "        word_result.append(word)\n",
    "    result.append(' '.join(word_result))\n",
    "print('\\n'.join(result).strip())"
   ]
  },
  {
   "cell_type": "code",
   "execution_count": 7,
   "id": "aa432e4f-359c-418e-b072-890bc15d14d3",
   "metadata": {},
   "outputs": [
    {
     "name": "stdout",
     "output_type": "stream",
     "text": [
      "park 800904-*******\n",
      "kim 841204-*******\n"
     ]
    }
   ],
   "source": [
    "import re\n",
    "\n",
    "pat = re.compile('(\\d{6})[-]\\d{7}')\n",
    "print(pat.sub(r'\\1-*******',data).strip())"
   ]
  },
  {
   "cell_type": "markdown",
   "id": "d7c2867f-b009-4e25-a663-9ff4cfcc2ff8",
   "metadata": {},
   "source": [
    "# 문자열 검색"
   ]
  },
  {
   "cell_type": "code",
   "execution_count": 9,
   "id": "2672a4f1-5ff1-4205-ae34-8ba5ae1a6b79",
   "metadata": {},
   "outputs": [],
   "source": [
    "import re\n",
    "\n",
    "p = re.compile('[a-z]+') #알파벳 소문자 1개 이상"
   ]
  },
  {
   "cell_type": "markdown",
   "id": "19776587-99e8-4bf5-b60b-5cd48845bb53",
   "metadata": {},
   "source": [
    "## match ()\n",
    "- 문자열의 처음부터 정규식과 매치되는지 조사"
   ]
  },
  {
   "cell_type": "code",
   "execution_count": 15,
   "id": "cebf94e2-1e2a-4196-abcd-83742eff14a5",
   "metadata": {},
   "outputs": [
    {
     "name": "stdout",
     "output_type": "stream",
     "text": [
      "<re.Match object; span=(0, 6), match='python'>\n",
      "<re.Match object; span=(0, 1), match='p'>\n",
      "None\n",
      "Match found: python\n"
     ]
    }
   ],
   "source": [
    "m1 = p.match('python')\n",
    "print(m1)\n",
    "m2 = p.match('pYthon')\n",
    "print(m2)\n",
    "m3 = p.match('3 python')\n",
    "print(m3)\n",
    "if m1:\n",
    "    print('Match found:', m1.group()) # group(): 매치된 문자열 반환\n",
    "else:\n",
    "    print('Not Match')"
   ]
  },
  {
   "cell_type": "markdown",
   "id": "c2eba047-d221-4bc1-a683-6cb98f7feb9d",
   "metadata": {},
   "source": [
    "## search()\n",
    "- 문자열 전체를 검색하여 처음으로 매치되는 문자열을 찾는다."
   ]
  },
  {
   "cell_type": "code",
   "execution_count": 16,
   "id": "194a3d8e-6b28-4b21-8920-eeb6ae2a0808",
   "metadata": {
    "scrolled": true
   },
   "outputs": [
    {
     "name": "stdout",
     "output_type": "stream",
     "text": [
      "<re.Match object; span=(2, 8), match='python'>\n"
     ]
    }
   ],
   "source": [
    "m = p.search('3 python')\n",
    "print(m)"
   ]
  },
  {
   "cell_type": "code",
   "execution_count": null,
   "id": "7b8fd9cc-eac4-4a8d-911c-560c6bb55d07",
   "metadata": {},
   "outputs": [],
   "source": [
    "[문제] 전화번호 추출하기  \n",
    "다음의 전화번호 데이터에서 전화번호만 추출하는 정규표현식을 작성하세요."
   ]
  },
  {
   "cell_type": "code",
   "execution_count": 22,
   "id": "9261733b-403b-42b4-a54e-a5132e38b21d",
   "metadata": {},
   "outputs": [
    {
     "name": "stdout",
     "output_type": "stream",
     "text": [
      "010-1234-5555\n",
      "02-555-3333\n"
     ]
    }
   ],
   "source": [
    "phone = ['홍길동:010-1234-5555', '우리집,02-555-3333']\n",
    "pat = re.compile('\\d{2,3}-\\d{3,4}-\\d{4}')\n",
    "for p in phone:\n",
    "    m = pat.search(p)\n",
    "    print(m.group())"
   ]
  },
  {
   "cell_type": "markdown",
   "id": "4960e438-d7f2-4446-a5c0-439d1bf32af7",
   "metadata": {},
   "source": [
    "## findall()\n",
    "- 정규식과 매치되는 모든 문자열을 찾아 리스트로 반환한다."
   ]
  },
  {
   "cell_type": "code",
   "execution_count": 24,
   "id": "4f009cb1-a74d-4fca-bb10-964e24105c0e",
   "metadata": {},
   "outputs": [
    {
     "name": "stdout",
     "output_type": "stream",
     "text": [
      "['life', 'is', 'too', 'short']\n"
     ]
    }
   ],
   "source": [
    "result = re.findall('[a-z]+', 'life is too short')\n",
    "print(result)"
   ]
  },
  {
   "cell_type": "markdown",
   "id": "647060e4-e295-41ff-9a43-c5bae1c5215e",
   "metadata": {},
   "source": [
    "# Match 객체 함수"
   ]
  },
  {
   "cell_type": "code",
   "execution_count": 26,
   "id": "b7f96649-38b8-4c23-b838-25fe7bd23fe0",
   "metadata": {},
   "outputs": [
    {
     "name": "stdout",
     "output_type": "stream",
     "text": [
      "python\n",
      "0\n",
      "6\n",
      "(0, 6)\n"
     ]
    }
   ],
   "source": [
    "import re\n",
    "\n",
    "p = re.compile('[a-z]+')\n",
    "m = p.search('python')\n",
    "print(m.group())\n",
    "print(m.start())\n",
    "print(m.end())\n",
    "print(m.span())"
   ]
  },
  {
   "cell_type": "markdown",
   "id": "134a1444-7da2-499a-9c56-9ac11d410890",
   "metadata": {},
   "source": [
    "# 컴파일 옵션"
   ]
  },
  {
   "cell_type": "markdown",
   "id": "325588e2-6f33-4954-99f4-791094e349fa",
   "metadata": {},
   "source": [
    "## DOTALL\n",
    "- dot(.) 메타 문자가 줄바꿈 문자(\\n)를 포함하여 모든 문자와 일치한다."
   ]
  },
  {
   "cell_type": "code",
   "execution_count": 28,
   "id": "f0443e51-1348-4fb0-a3ec-95e7c67de46f",
   "metadata": {},
   "outputs": [
    {
     "name": "stdout",
     "output_type": "stream",
     "text": [
      "None\n",
      "<re.Match object; span=(0, 3), match='a\\nb'>\n"
     ]
    }
   ],
   "source": [
    "m = re.match('a.b', 'a\\nb')\n",
    "print(m)\n",
    "p = re.compile('a.b', re.DOTALL)\n",
    "m = p.match('a\\nb')\n",
    "print(m)"
   ]
  },
  {
   "cell_type": "code",
   "execution_count": 30,
   "id": "a817cf54-63eb-4f8f-9129-e2687fe80691",
   "metadata": {},
   "outputs": [
    {
     "name": "stdout",
     "output_type": "stream",
     "text": [
      "<re.Match object; span=(0, 12), match='hello\\npython'>\n"
     ]
    }
   ],
   "source": [
    "s = '''hello\n",
    "python'''\n",
    "p = re.compile('hello.python', re.DOTALL)\n",
    "print(p.match(s))"
   ]
  },
  {
   "cell_type": "markdown",
   "id": "2bfe77fb-b9d5-446f-8f41-433a94ec0e8d",
   "metadata": {},
   "source": [
    "## IGNORECASE\n",
    "- 대소문자에 관계 없이 일치한다."
   ]
  },
  {
   "cell_type": "code",
   "execution_count": 32,
   "id": "009f431a-b84a-4bd1-b8bb-f569e9816bab",
   "metadata": {},
   "outputs": [
    {
     "name": "stdout",
     "output_type": "stream",
     "text": [
      "<re.Match object; span=(0, 6), match='python'>\n",
      "<re.Match object; span=(0, 6), match='PYTHON'>\n"
     ]
    }
   ],
   "source": [
    "p = re.compile('[a-z]+', re.IGNORECASE)\n",
    "print(p.match('python'))\n",
    "print(p.match('PYTHON'))"
   ]
  },
  {
   "cell_type": "markdown",
   "id": "8fb45822-6827-455d-875d-06b68b6c64cb",
   "metadata": {},
   "source": [
    "## MULTILINE\n",
    "- 여러 줄의 문자열에 대해 ^, $ 메타문자를 적용할 수 있다."
   ]
  },
  {
   "cell_type": "code",
   "execution_count": 33,
   "id": "ce5be8f0-e9ba-4cb3-864b-6c5d9e4c9056",
   "metadata": {},
   "outputs": [
    {
     "name": "stdout",
     "output_type": "stream",
     "text": [
      "['python one']\n"
     ]
    }
   ],
   "source": [
    "p = re.compile('^python\\s\\w+')\n",
    "\n",
    "text = '''python one\n",
    "life is too short\n",
    "python two\n",
    "you need python\n",
    "python three'''\n",
    "m = p.findall(text)\n",
    "print(m)"
   ]
  },
  {
   "cell_type": "code",
   "execution_count": 34,
   "id": "e83058c8-9b9b-445c-8938-cae99ea2d7fe",
   "metadata": {},
   "outputs": [
    {
     "name": "stdout",
     "output_type": "stream",
     "text": [
      "['python one', 'python two', 'python\\npython']\n"
     ]
    }
   ],
   "source": [
    "p = re.compile('python\\s\\w+')\n",
    "\n",
    "text = '''python one\n",
    "life is too shortp\n",
    "python two\n",
    "you need python\n",
    "python three'''\n",
    "m = p.findall(text)\n",
    "print(m)"
   ]
  },
  {
   "cell_type": "code",
   "execution_count": 35,
   "id": "e396f850-c2b0-46d8-81cc-d5109f83772f",
   "metadata": {},
   "outputs": [
    {
     "name": "stdout",
     "output_type": "stream",
     "text": [
      "['python one', 'python two', 'python three']\n"
     ]
    }
   ],
   "source": [
    "#MULTILINE은 ^, $ 메타문자를 문자열의 각 줄마다 적용한다.\n",
    "p = re.compile('^python\\s\\w+', re.MULTILINE)\n",
    "\n",
    "text = '''python one\n",
    "life is too shortp\n",
    "python two\n",
    "you need python\n",
    "python three'''\n",
    "m = p.findall(text)\n",
    "print(m)"
   ]
  },
  {
   "cell_type": "markdown",
   "id": "a80e252b-3f72-4a87-a6c0-94316a5f0d89",
   "metadata": {},
   "source": [
    "# 백슬래시 문제"
   ]
  },
  {
   "cell_type": "code",
   "execution_count": 37,
   "id": "e046f34d-5f94-4fbb-aaa0-88029dc7c331",
   "metadata": {},
   "outputs": [
    {
     "name": "stdout",
     "output_type": "stream",
     "text": [
      "None\n",
      "<re.Match object; span=(8, 16), match='\\\\section'>\n"
     ]
    }
   ],
   "source": [
    "import re\n",
    "\n",
    "p = re.compile('\\\\section') #\\section으로 해석된 문자열이 전달되어 [\\t\\n\\r\\f\\v]ection 과 같은 의미로 해석\n",
    "\n",
    "m = p.search('What is \\section and example?')\n",
    "print(m)\n",
    "\n",
    "p = re.compile(r'\\\\section') \n",
    "m = p.search('What is \\section and example?')\n",
    "print(m)"
   ]
  },
  {
   "cell_type": "markdown",
   "id": "0fc5ddf3-cf34-4a32-ab4b-f43990aacf6a",
   "metadata": {},
   "source": [
    "# 메타문자"
   ]
  },
  {
   "cell_type": "markdown",
   "id": "a9b94f5a-6881-4870-b5b3-2b9225c0fe4f",
   "metadata": {},
   "source": [
    "## |\n",
    "- or 의 의미"
   ]
  },
  {
   "cell_type": "code",
   "execution_count": 38,
   "id": "ac5d6c6f-9c79-4f83-baf3-112d03543d87",
   "metadata": {},
   "outputs": [
    {
     "name": "stdout",
     "output_type": "stream",
     "text": [
      "<re.Match object; span=(0, 5), match='Servo'>\n"
     ]
    }
   ],
   "source": [
    "import re\n",
    "p = re.compile('Crow|Servo')\n",
    "m = p.match('ServoHello')\n",
    "print(m)"
   ]
  },
  {
   "cell_type": "code",
   "execution_count": null,
   "id": "bf104455-9d88-48ee-9a90-e47dbc976a10",
   "metadata": {},
   "outputs": [],
   "source": [
    "## \\A\n",
    "- 문자열의 처음과 일치함을 의미\n",
    "- MULTILINE 옵션 안먹힘"
   ]
  },
  {
   "cell_type": "code",
   "execution_count": 44,
   "id": "6aadd734-002f-43f4-b194-a02237afdd9a",
   "metadata": {},
   "outputs": [
    {
     "name": "stdout",
     "output_type": "stream",
     "text": [
      "['python one']\n"
     ]
    }
   ],
   "source": [
    "p = re.compile('\\Apython\\s\\w+', re.MULTILINE)\n",
    "\n",
    "text = '''python one\n",
    "life is too short\n",
    "python two\n",
    "you need python\n",
    "python three'''\n",
    "m = p.findall(text)\n",
    "print(m)"
   ]
  },
  {
   "cell_type": "code",
   "execution_count": null,
   "id": "61997254-882d-4926-82ba-f082ca8703e6",
   "metadata": {},
   "outputs": [],
   "source": [
    "## \\b\n",
    "- 단어 경계를 나타낸다.\n",
    "- 공백으로 구분된 단어를 찾는다.\n",
    "- \\s는 공백을 포함하는지를 검사\n",
    "- raw string 문자(r)를 붙여줘야 함"
   ]
  },
  {
   "cell_type": "code",
   "execution_count": 42,
   "id": "871890fe-e23e-4500-96e4-abbe38ee8c9f",
   "metadata": {},
   "outputs": [
    {
     "name": "stdout",
     "output_type": "stream",
     "text": [
      "<re.Match object; span=(2, 9), match=' class '>\n",
      "None\n"
     ]
    }
   ],
   "source": [
    "p = re.compile(r'\\bclass\\b')# 공백을 포함하지 않고 매치결과 반환\n",
    "p = re.compile(r'\\sclass\\s') # CLASS 단어 앞 뒤에 공백이 있으면 MATCH, 공백을 포함해서 매치 결과를 반환\n",
    "print(p.search('no class at all'))\n",
    "print(p.search('class at all'))"
   ]
  },
  {
   "cell_type": "code",
   "execution_count": null,
   "id": "6b44f832-441e-4222-a015-50afac4e0be6",
   "metadata": {},
   "outputs": [],
   "source": [
    "# dog라는 독립된 단어를 찾는다.\n",
    "#\\b는 단어문자와 비단어 문자 사이의 경계를 의미\n",
    "m = re.search('r\\bdog\\b', 'I have a dog.')\n",
    "print(m)"
   ]
  },
  {
   "cell_type": "code",
   "execution_count": 45,
   "id": "52420251-a774-4fb0-b3db-956b70e1f0c5",
   "metadata": {},
   "outputs": [
    {
     "name": "stdout",
     "output_type": "stream",
     "text": [
      "<re.Match object; span=(6, 8), match='단어'>\n"
     ]
    }
   ],
   "source": [
    "p = re.compile(r'\\b단어\\b')\n",
    "print(p.search('한글에서 \"단어\"문자 찾기'))"
   ]
  },
  {
   "cell_type": "markdown",
   "id": "fcd1d292-a10e-46d9-ae7d-057b695ed08e",
   "metadata": {},
   "source": [
    "## \\\n",
    "- 정규표현식에서 사용하는 문자 그대로 표현하려면 앞에 \\를 붙임\n",
    "- 즉, 문자열 안에 포함된 메타문자(.?$ 등)을 원래 문자로 사용"
   ]
  },
  {
   "cell_type": "code",
   "execution_count": 46,
   "id": "e97b7519-ecfb-404e-8a4f-49f8e58b897b",
   "metadata": {},
   "outputs": [
    {
     "name": "stdout",
     "output_type": "stream",
     "text": [
      "<re.Match object; span=(5, 10), match='안녕하세요'>\n"
     ]
    }
   ],
   "source": [
    "m = re.search('안녕하세요?', '여러분, 안녕하세요?')\n",
    "print(m)"
   ]
  },
  {
   "cell_type": "markdown",
   "id": "095d4a0e-6084-4ef7-a7ff-7e9c6ad7a64b",
   "metadata": {},
   "source": [
    "# 그룹핑"
   ]
  },
  {
   "cell_type": "code",
   "execution_count": 48,
   "id": "803ad144-c943-4f9c-9b90-4af87c3ac466",
   "metadata": {},
   "outputs": [
    {
     "name": "stdout",
     "output_type": "stream",
     "text": [
      "<re.Match object; span=(0, 12), match='ABCABCABCABC'>\n",
      "ABCABCABCABC\n",
      "ABC\n"
     ]
    }
   ],
   "source": [
    "import re\n",
    "\n",
    "p = re.compile('(ABC)+')\n",
    "m = p.search('ABCABCABCABC OK?')\n",
    "print(m)\n",
    "print(m.group(0)) # 일치된 전체 문자열 or m.group()과 동일\n",
    "print(m.group(1)) #첫 번째 그룹에 해당하는 문자열"
   ]
  },
  {
   "cell_type": "code",
   "execution_count": 53,
   "id": "5b7c0e83-6b6b-450c-a1b5-0d2ced8db166",
   "metadata": {},
   "outputs": [
    {
     "name": "stdout",
     "output_type": "stream",
     "text": [
      "park\n",
      "010-1234-5678\n"
     ]
    }
   ],
   "source": [
    "p = re.compile('(\\w+)\\s+(\\d+[-]\\d+[-]\\d+)')\n",
    "m = p.search('park 010-1234-5678')\n",
    "#print(m)\n",
    "print(m.group(1))\n",
    "print(m.group(2))"
   ]
  },
  {
   "cell_type": "code",
   "execution_count": 55,
   "id": "bce34a6c-ffe4-4f53-b90f-0a12e01c0797",
   "metadata": {},
   "outputs": [
    {
     "name": "stdout",
     "output_type": "stream",
     "text": [
      "010\n"
     ]
    }
   ],
   "source": [
    "# 그룹이 중첩되어 있는 경우는 바깥쪽부터 시작하여 안쪽으로 들어갈 수록 인덱스가 증가한다.\n",
    "p = re.compile('(\\w+)\\s+((\\d+)[-]\\d+[-]\\d+)')\n",
    "m = p.search('park 010-1234-5678')\n",
    "print(m.group(3))"
   ]
  }
 ],
 "metadata": {
  "kernelspec": {
   "display_name": "Python 3 (ipykernel)",
   "language": "python",
   "name": "python3"
  },
  "language_info": {
   "codemirror_mode": {
    "name": "ipython",
    "version": 3
   },
   "file_extension": ".py",
   "mimetype": "text/x-python",
   "name": "python",
   "nbconvert_exporter": "python",
   "pygments_lexer": "ipython3",
   "version": "3.11.7"
  }
 },
 "nbformat": 4,
 "nbformat_minor": 5
}
